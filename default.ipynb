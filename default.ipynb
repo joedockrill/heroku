{
  "nbformat": 4,
  "nbformat_minor": 0,
  "metadata": {
    "colab": {
      "name": "default.ipynb",
      "provenance": [],
      "collapsed_sections": [],
      "authorship_tag": "ABX9TyPyzwzuhWK0MKmlId5StZN8"
    },
    "kernelspec": {
      "name": "python3",
      "display_name": "Python 3"
    }
  },
  "cells": [
    {
      "cell_type": "markdown",
      "metadata": {
        "id": "cyw1A9Mj8CxU",
        "colab_type": "text"
      },
      "source": [
        "![](https://joedockrill.files.wordpress.com/2020/06/web-header-wide.png)\n",
        "\n",
        "Hello, come in! This is where i keep demo projects. I'd love to find somewhere I can blog and run fastai models and Python code in the same place without paying anyone for hosting, but in the meantime you can find some demos below, and my blog at [joedockrill.github.io/blog/](https://joedockrill.github.io/blog/)\n",
        "\n",
        "---\n",
        "\n"
      ]
    },
    {
      "cell_type": "markdown",
      "metadata": {
        "id": "oz0Kak_F9TZe",
        "colab_type": "text"
      },
      "source": [
        "<img src=\"https://drive.google.com/uc?export=download&id=1C_5MfKpM99BKDUZWRjKdT7qbDc0ZdkEr\" align=\"left\"><h4><a href=\"JesterCollabDemo.ipynb\">Collab Filtering Joke Recommendation System</a></h4>\n",
        "This is a collaborative filtering model trained on the [Jester dataset](http://eigentaste.berkeley.edu/dataset/) as a joke recommendation system. Uses euclidean distances to real users to get around the non-existent user problem."
      ]
    },
    {
      "cell_type": "markdown",
      "metadata": {
        "id": "TfLsNQUTwvhT",
        "colab_type": "text"
      },
      "source": [
        "<img src=\"https://drive.google.com/uc?export=download&id=1CaCAb3ivx_89mNSjOPPcpXLEFN2AojHL\" align=\"left\">\n",
        "<h4><a href=\"ClownClassifier.ipynb\">Clown Classifier</a></h4>\n",
        "This is a ResNet-50 CNN using fastai to do basic single label classification of clowns into nice  or scary. You can supply a URL or click some of the provided examples at the bottom."
      ]
    },
    {
      "cell_type": "code",
      "metadata": {
        "id": "PTAyyWg-xMYH",
        "colab_type": "code",
        "colab": {}
      },
      "source": [
        ""
      ],
      "execution_count": null,
      "outputs": []
    }
  ]
}
